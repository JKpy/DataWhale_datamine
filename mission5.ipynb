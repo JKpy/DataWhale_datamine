{
 "cells": [
  {
   "cell_type": "code",
   "execution_count": 1,
   "metadata": {},
   "outputs": [],
   "source": [
    "import pandas as pd \n",
    "from sklearn.model_selection import train_test_split\n",
    "from sklearn.linear_model import LogisticRegression\n",
    "from sklearn.svm import SVC\n",
    "from sklearn.tree import DecisionTreeClassifier\n",
    "from sklearn.ensemble import RandomForestClassifier, GradientBoostingClassifier\n",
    "import lightgbm as lgb\n",
    "from xgboost import XGBClassifier\n",
    "import matplotlib.pyplot as plt\n",
    "from sklearn import metrics\n",
    "from sklearn.preprocessing import StandardScaler\n",
    "from sklearn.model_selection import GridSearchCV\n",
    "import warnings\n",
    "warnings.filterwarnings('ignore')"
   ]
  },
  {
   "cell_type": "markdown",
   "metadata": {},
   "source": [
    "## 读取数据集并标准化消除量纲"
   ]
  },
  {
   "cell_type": "code",
   "execution_count": 2,
   "metadata": {},
   "outputs": [],
   "source": [
    "finaldata = pd.read_csv('finaldata.csv',encoding = 'gbk')\n",
    "finalX = finaldata.iloc[:,1:21]\n",
    "y = finaldata.iloc[:,-1]\n",
    "from sklearn.preprocessing import StandardScaler\n",
    "X = StandardScaler().fit_transform(finalX)"
   ]
  },
  {
   "cell_type": "markdown",
   "metadata": {},
   "source": [
    "## 划分数据集"
   ]
  },
  {
   "cell_type": "code",
   "execution_count": 3,
   "metadata": {},
   "outputs": [],
   "source": [
    "from sklearn.model_selection import train_test_split\n",
    "Xtrain,Xtest,Ytrain,Ytest = train_test_split(finalX,y,test_size=0.3,random_state=2018)"
   ]
  },
  {
   "cell_type": "code",
   "execution_count": 4,
   "metadata": {},
   "outputs": [],
   "source": [
    "params_lr = {'solver': ['newton-cg', 'lbfgs', 'sag'], 'C': [0.1, 1, 10]}\n",
    "lr_model = GridSearchCV(LogisticRegression(class_weight='balanced', max_iter=1000), params_lr, cv=5, scoring='roc_auc')\n",
    "\n",
    "params_svm = {'kernel': ('linear', 'rbf'), 'C': [0.1, 1, 10]}\n",
    "svm_model = GridSearchCV(SVC(class_weight='balanced', gamma='auto', probability=True), params_svm, cv=5, scoring='roc_auc')\n",
    "\n",
    "params_dt = {'criterion': ['gini', 'entropy'], 'max_features': ['sqrt', 'log2', None]}\n",
    "dt_model = GridSearchCV(DecisionTreeClassifier(class_weight='balanced'), params_dt, cv=5, scoring='roc_auc')\n",
    "\n",
    "params_rf = {'n_estimators': range(10, 80, 10), 'criterion': ['gini', 'entropy'], 'max_features': ['sqrt', 'log2', None]}\n",
    "rf_model = GridSearchCV(RandomForestClassifier(class_weight='balanced'), params_rf, cv=5, scoring='roc_auc')\n",
    "\n",
    "params_en = {'n_estimators': range(10, 80, 10)}\n",
    "gbdt_model = GridSearchCV(GradientBoostingClassifier(), params_en, cv=5, scoring='roc_auc')\n",
    "xg_model = GridSearchCV(XGBClassifier(), params_en, cv=5, scoring='roc_auc')\n",
    "lgb_model = GridSearchCV(lgb.LGBMClassifier(), params_en, cv=5, scoring='roc_auc')\n",
    "\n",
    "models = {'LR': lr_model,\n",
    "          'SVM': svm_model,\n",
    "          'DT': dt_model,\n",
    "          'RF': rf_model,\n",
    "          'GBDT': gbdt_model,\n",
    "          'XGBoost': xg_model,\n",
    "          'LightGBM': lgb_model}"
   ]
  },
  {
   "cell_type": "code",
   "execution_count": 5,
   "metadata": {},
   "outputs": [],
   "source": [
    "def get_metric(clf, X, y_true):\n",
    "    y_pred = clf.predict(X)\n",
    "    y_proba = clf.predict_proba(X)\n",
    "\n",
    "    acc = metrics.accuracy_score(y_true, y_pred)\n",
    "    p = metrics.precision_score(y_true, y_pred)\n",
    "    r = metrics.recall_score(y_true, y_pred)\n",
    "    f1 = metrics.f1_score(y_true, y_pred)\n",
    "    fpr, tpr, thresholds = metrics.roc_curve(y_true, y_proba[:, 1])\n",
    "    auc = metrics.auc(fpr, tpr)\n",
    "    return acc, p, r, f1, fpr, tpr, auc\n",
    "\n",
    "\n",
    "def plot_roc(fprs, tprs, aucs, title):\n",
    "    plt.figure()\n",
    "    lw = 2\n",
    "    for i, name in enumerate(models):\n",
    "        plt.plot(fprs[i], tprs[i], lw=lw,\n",
    "                 label='{0} (AUC:{1:0.2f})'.format(name, aucs[i]))\n",
    "    plt.plot([0, 1], [0, 1], color='navy', lw=lw, linestyle='--')\n",
    "    plt.xlim([0.0, 1.0])\n",
    "    plt.ylim([0.0, 1.05])\n",
    "    plt.xlabel('False Positive Rate')\n",
    "    plt.ylabel('True Positive Rate')\n",
    "    plt.title('Receiver operating characteristic of '+title)\n",
    "    plt.legend(loc=\"lower right\")\n",
    "    plt.show()"
   ]
  },
  {
   "cell_type": "code",
   "execution_count": null,
   "metadata": {},
   "outputs": [
    {
     "name": "stdout",
     "output_type": "stream",
     "text": [
      "LR\n",
      "{'C': 0.1, 'solver': 'newton-cg'}\n"
     ]
    },
    {
     "data": {
      "image/png": "[encoded data removed]",
      "text/plain": [
       "<Figure size 432x288 with 1 Axes>"
      ]
     },
     "metadata": {
      "needs_background": "light"
     },
     "output_type": "display_data"
    }
   ],
   "source": [
    "df_result = pd.DataFrame(columns=('Model', 'dataset', 'Accuracy', 'Precision', 'Recall', 'F1 score', 'AUC'))\n",
    "row = 0\n",
    "fprs_train = []\n",
    "tprs_train = []\n",
    "aucs_train = []\n",
    "fprs_test = []\n",
    "tprs_test = []\n",
    "aucs_test = []\n",
    "for name, clf in models.items():\n",
    "    clf.fit(Xtrain, Ytrain)\n",
    "    print(name)\n",
    "    print(clf.best_params_)\n",
    "    acc, p, r, f1, fpr_train, tpr_train, auc_train = get_metric(clf, Xtrain, Ytrain)\n",
    "    fprs_train.append(fpr_train)\n",
    "    tprs_train.append(tpr_train)\n",
    "    aucs_train.append(auc_train)\n",
    "    df_result.loc[row] = [name, 'train', acc, p, r, f1, auc_train]\n",
    "    row += 1\n",
    "\n",
    "    acc, p, r, f1, fpr_test, tpr_test, auc_test = get_metric(clf, Xtest, Ytest)\n",
    "    fprs_test.append(fpr_test)\n",
    "    tprs_test.append(tpr_test)\n",
    "    aucs_test.append(auc_test)\n",
    "    df_result.loc[row] = [name, 'test', acc, p, r, f1, auc_test]\n",
    "    row += 1\n",
    "\n",
    "    plt.figure()\n",
    "    lw = 2\n",
    "    plt.plot(fpr_train, tpr_train, color='darkorange', lw=lw, label='train (AUC:%0.2f)' % auc_train)\n",
    "    plt.plot(fpr_test, tpr_test, color='cornflowerblue', lw=lw, label='test (AUC:%0.2f)' % auc_test)\n",
    "    plt.plot([0, 1], [0, 1], color='navy', lw=lw, linestyle='--')\n",
    "    plt.xlim([0.0, 1.0])\n",
    "    plt.ylim([0.0, 1.05])\n",
    "    plt.xlabel('False Positive Rate')\n",
    "    plt.ylabel('True Positive Rate')\n",
    "    plt.title('Receiver operating characteristic of '+name)\n",
    "    plt.legend(loc=\"lower right\")\n",
    "    plt.show()\n",
    "\n",
    "\n",
    "print(df_result)\n",
    "\n",
    "plot_roc(fprs_train, tprs_train, aucs_train, 'train')\n",
    "plot_roc(fprs_test, tprs_test, aucs_test, 'test')"
   ]
  },
  {
   "cell_type": "code",
   "execution_count": null,
   "metadata": {},
   "outputs": [],
   "source": [
    "df_result"
   ]
  }
 ],
 "metadata": {
  "kernelspec": {
   "display_name": "Python 3",
   "language": "python",
   "name": "python3"
  },
  "language_info": {
   "codemirror_mode": {
    "name": "ipython",
    "version": 3
   },
   "file_extension": ".py",
   "mimetype": "text/x-python",
   "name": "python",
   "nbconvert_exporter": "python",
   "pygments_lexer": "ipython3",
   "version": "3.6.8"
  }
 },
 "nbformat": 4,
 "nbformat_minor": 2
}
