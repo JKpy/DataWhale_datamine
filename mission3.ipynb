{
 "cells": [
  {
   "cell_type": "code",
   "execution_count": 1,
   "metadata": {},
   "outputs": [],
   "source": [
    "import pandas as pd\n",
    "import numpy as np\n",
    "import warnings\n",
    "warnings.filterwarnings('ignore')"
   ]
  },
  {
   "cell_type": "code",
   "execution_count": 2,
   "metadata": {},
   "outputs": [],
   "source": [
    "df = pd.read_csv('data_task1.csv',encoding = 'gbk')"
   ]
  },
  {
   "cell_type": "code",
   "execution_count": 3,
   "metadata": {
    "scrolled": true
   },
   "outputs": [
    {
     "name": "stdout",
     "output_type": "stream",
     "text": [
      "<class 'pandas.core.frame.DataFrame'>\n",
      "RangeIndex: 4752 entries, 0 to 4751\n",
      "Data columns (total 81 columns):\n",
      "Unnamed: 0                                    4752 non-null int64\n",
      "regional_mobility                             4752 non-null float64\n",
      "is_high_user                                  4752 non-null int64\n",
      "avg_consume_less_12_valid_month               4752 non-null float64\n",
      "reg_preference_for_trad                       4752 non-null float64\n",
      "status                                        4752 non-null int64\n",
      "low_volume_percent                            4752 non-null float64\n",
      "middle_volume_percent                         4752 non-null float64\n",
      "take_amount_in_later_12_month_highest         4752 non-null float64\n",
      "trans_amount_increase_rate_lately             4752 non-null float64\n",
      "trans_activity_month                          4752 non-null float64\n",
      "trans_activity_day                            4752 non-null float64\n",
      "transd_mcc                                    4752 non-null float64\n",
      "trans_days_interval_filter                    4752 non-null float64\n",
      "trans_days_interval                           4752 non-null float64\n",
      "repayment_capability                          4752 non-null float64\n",
      "number_of_trans_from_2011                     4752 non-null float64\n",
      "historical_trans_amount                       4752 non-null float64\n",
      "historical_trans_day                          4752 non-null float64\n",
      "rank_trad_1_month                             4752 non-null float64\n",
      "trans_amount_3_month                          4752 non-null float64\n",
      "abs                                           4752 non-null float64\n",
      "top_trans_count_last_1_month                  4752 non-null float64\n",
      "avg_price_last_12_month                       4752 non-null float64\n",
      "avg_price_top_last_12_valid_month             4752 non-null float64\n",
      "trans_top_time_last_1_month                   4752 non-null float64\n",
      "trans_top_time_last_6_month                   4752 non-null float64\n",
      "consume_top_time_last_1_month                 4752 non-null float64\n",
      "consume_top_time_last_6_month                 4752 non-null float64\n",
      "cross_consume_count_last_1_month              4752 non-null float64\n",
      "trans_fail_top_count_enum_last_1_month        4752 non-null float64\n",
      "trans_fail_top_count_enum_last_6_month        4752 non-null float64\n",
      "trans_fail_top_count_enum_last_12_month       4752 non-null float64\n",
      "consume_mini_time_last_1_month                4752 non-null float64\n",
      "max_cumulative_consume_later_1_month          4752 non-null float64\n",
      "max_consume_count_later_6_month               4752 non-null float64\n",
      "railway_consume_count_last_12_month           4752 non-null float64\n",
      "pawns_auctions_trusts_consume_last_1_month    4752 non-null float64\n",
      "pawns_auctions_trusts_consume_last_6_month    4752 non-null float64\n",
      "jewelry_consume_count_last_6_month            4752 non-null float64\n",
      "trans_day_last_12_month                       4752 non-null float64\n",
      "apply_score                                   4752 non-null float64\n",
      "apply_credibility                             4752 non-null float64\n",
      "query_org_count                               4752 non-null float64\n",
      "query_finance_count                           4752 non-null float64\n",
      "query_cash_count                              4752 non-null float64\n",
      "query_sum_count                               4752 non-null float64\n",
      "latest_one_month_apply                        4752 non-null float64\n",
      "latest_three_month_apply                      4752 non-null float64\n",
      "latest_six_month_apply                        4752 non-null float64\n",
      "loans_score                                   4752 non-null float64\n",
      "loans_credibility_behavior                    4752 non-null float64\n",
      "loans_count                                   4752 non-null float64\n",
      "loans_settle_count                            4752 non-null float64\n",
      "loans_overdue_count                           4752 non-null float64\n",
      "loans_org_count_behavior                      4752 non-null float64\n",
      "consfin_org_count_behavior                    4752 non-null float64\n",
      "loans_cash_count                              4752 non-null float64\n",
      "latest_one_month_loan                         4752 non-null float64\n",
      "latest_three_month_loan                       4752 non-null float64\n",
      "latest_six_month_loan                         4752 non-null float64\n",
      "history_suc_fee                               4752 non-null float64\n",
      "history_fail_fee                              4752 non-null float64\n",
      "latest_one_month_suc                          4752 non-null float64\n",
      "latest_one_month_fail                         4752 non-null float64\n",
      "loans_long_time                               4752 non-null float64\n",
      "loans_credit_limit                            4752 non-null float64\n",
      "loans_credibility_limit                       4752 non-null float64\n",
      "loans_org_count_current                       4752 non-null float64\n",
      "loans_product_count                           4752 non-null float64\n",
      "loans_max_limit                               4752 non-null float64\n",
      "loans_avg_limit                               4752 non-null float64\n",
      "consfin_credit_limit                          4752 non-null float64\n",
      "consfin_credibility                           4752 non-null float64\n",
      "consfin_org_count_current                     4752 non-null float64\n",
      "consfin_product_count                         4752 non-null float64\n",
      "consfin_max_limit                             4752 non-null float64\n",
      "consfin_avg_limit                             4752 non-null float64\n",
      "latest_query_day                              4752 non-null float64\n",
      "first_transaction_day_re                      4752 non-null float64\n",
      "active_day                                    4752 non-null float64\n",
      "dtypes: float64(78), int64(3)\n",
      "memory usage: 2.9 MB\n"
     ]
    }
   ],
   "source": [
    "df.info()"
   ]
  },
  {
   "cell_type": "code",
   "execution_count": 4,
   "metadata": {},
   "outputs": [
    {
     "data": {
      "text/html": [
       "<div>\n",
       "<style scoped>\n",
       "    .dataframe tbody tr th:only-of-type {\n",
       "        vertical-align: middle;\n",
       "    }\n",
       "\n",
       "    .dataframe tbody tr th {\n",
       "        vertical-align: top;\n",
       "    }\n",
       "\n",
       "    .dataframe thead th {\n",
       "        text-align: right;\n",
       "    }\n",
       "</style>\n",
       "<table border=\"1\" class=\"dataframe\">\n",
       "  <thead>\n",
       "    <tr style=\"text-align: right;\">\n",
       "      <th></th>\n",
       "      <th>regional_mobility</th>\n",
       "      <th>is_high_user</th>\n",
       "      <th>avg_consume_less_12_valid_month</th>\n",
       "      <th>reg_preference_for_trad</th>\n",
       "      <th>status</th>\n",
       "      <th>low_volume_percent</th>\n",
       "      <th>middle_volume_percent</th>\n",
       "      <th>take_amount_in_later_12_month_highest</th>\n",
       "      <th>trans_amount_increase_rate_lately</th>\n",
       "      <th>trans_activity_month</th>\n",
       "      <th>...</th>\n",
       "      <th>loans_avg_limit</th>\n",
       "      <th>consfin_credit_limit</th>\n",
       "      <th>consfin_credibility</th>\n",
       "      <th>consfin_org_count_current</th>\n",
       "      <th>consfin_product_count</th>\n",
       "      <th>consfin_max_limit</th>\n",
       "      <th>consfin_avg_limit</th>\n",
       "      <th>latest_query_day</th>\n",
       "      <th>first_transaction_day_re</th>\n",
       "      <th>active_day</th>\n",
       "    </tr>\n",
       "  </thead>\n",
       "  <tbody>\n",
       "    <tr>\n",
       "      <th>0</th>\n",
       "      <td>3.0</td>\n",
       "      <td>0</td>\n",
       "      <td>7.0</td>\n",
       "      <td>0.0</td>\n",
       "      <td>1</td>\n",
       "      <td>0.01</td>\n",
       "      <td>0.99</td>\n",
       "      <td>0.0</td>\n",
       "      <td>0.90</td>\n",
       "      <td>0.55</td>\n",
       "      <td>...</td>\n",
       "      <td>1688.0</td>\n",
       "      <td>1200.0</td>\n",
       "      <td>75.0</td>\n",
       "      <td>1.0</td>\n",
       "      <td>2.0</td>\n",
       "      <td>1200.0</td>\n",
       "      <td>1200.0</td>\n",
       "      <td>12.0</td>\n",
       "      <td>1724.0</td>\n",
       "      <td>12.0</td>\n",
       "    </tr>\n",
       "    <tr>\n",
       "      <th>1</th>\n",
       "      <td>4.0</td>\n",
       "      <td>0</td>\n",
       "      <td>5.0</td>\n",
       "      <td>0.0</td>\n",
       "      <td>0</td>\n",
       "      <td>0.02</td>\n",
       "      <td>0.94</td>\n",
       "      <td>2000.0</td>\n",
       "      <td>1.28</td>\n",
       "      <td>1.00</td>\n",
       "      <td>...</td>\n",
       "      <td>1758.0</td>\n",
       "      <td>15100.0</td>\n",
       "      <td>80.0</td>\n",
       "      <td>5.0</td>\n",
       "      <td>6.0</td>\n",
       "      <td>22800.0</td>\n",
       "      <td>9360.0</td>\n",
       "      <td>4.0</td>\n",
       "      <td>765.0</td>\n",
       "      <td>2.0</td>\n",
       "    </tr>\n",
       "    <tr>\n",
       "      <th>2</th>\n",
       "      <td>1.0</td>\n",
       "      <td>0</td>\n",
       "      <td>5.0</td>\n",
       "      <td>0.0</td>\n",
       "      <td>1</td>\n",
       "      <td>0.04</td>\n",
       "      <td>0.96</td>\n",
       "      <td>0.0</td>\n",
       "      <td>1.00</td>\n",
       "      <td>1.00</td>\n",
       "      <td>...</td>\n",
       "      <td>1250.0</td>\n",
       "      <td>4200.0</td>\n",
       "      <td>87.0</td>\n",
       "      <td>1.0</td>\n",
       "      <td>1.0</td>\n",
       "      <td>4200.0</td>\n",
       "      <td>4200.0</td>\n",
       "      <td>2.0</td>\n",
       "      <td>324.0</td>\n",
       "      <td>2.0</td>\n",
       "    </tr>\n",
       "    <tr>\n",
       "      <th>3</th>\n",
       "      <td>3.0</td>\n",
       "      <td>0</td>\n",
       "      <td>7.0</td>\n",
       "      <td>1.0</td>\n",
       "      <td>0</td>\n",
       "      <td>0.00</td>\n",
       "      <td>0.96</td>\n",
       "      <td>2000.0</td>\n",
       "      <td>0.13</td>\n",
       "      <td>0.57</td>\n",
       "      <td>...</td>\n",
       "      <td>1541.0</td>\n",
       "      <td>16300.0</td>\n",
       "      <td>80.0</td>\n",
       "      <td>5.0</td>\n",
       "      <td>5.0</td>\n",
       "      <td>30000.0</td>\n",
       "      <td>12180.0</td>\n",
       "      <td>2.0</td>\n",
       "      <td>1817.0</td>\n",
       "      <td>2.0</td>\n",
       "    </tr>\n",
       "    <tr>\n",
       "      <th>4</th>\n",
       "      <td>1.0</td>\n",
       "      <td>0</td>\n",
       "      <td>6.0</td>\n",
       "      <td>0.0</td>\n",
       "      <td>1</td>\n",
       "      <td>0.01</td>\n",
       "      <td>0.99</td>\n",
       "      <td>0.0</td>\n",
       "      <td>0.46</td>\n",
       "      <td>1.00</td>\n",
       "      <td>...</td>\n",
       "      <td>1630.0</td>\n",
       "      <td>8300.0</td>\n",
       "      <td>79.0</td>\n",
       "      <td>2.0</td>\n",
       "      <td>2.0</td>\n",
       "      <td>8400.0</td>\n",
       "      <td>8250.0</td>\n",
       "      <td>22.0</td>\n",
       "      <td>421.0</td>\n",
       "      <td>22.0</td>\n",
       "    </tr>\n",
       "  </tbody>\n",
       "</table>\n",
       "<p>5 rows × 80 columns</p>\n",
       "</div>"
      ],
      "text/plain": [
       "   regional_mobility  is_high_user  avg_consume_less_12_valid_month  \\\n",
       "0                3.0             0                              7.0   \n",
       "1                4.0             0                              5.0   \n",
       "2                1.0             0                              5.0   \n",
       "3                3.0             0                              7.0   \n",
       "4                1.0             0                              6.0   \n",
       "\n",
       "   reg_preference_for_trad  status  low_volume_percent  middle_volume_percent  \\\n",
       "0                      0.0       1                0.01                   0.99   \n",
       "1                      0.0       0                0.02                   0.94   \n",
       "2                      0.0       1                0.04                   0.96   \n",
       "3                      1.0       0                0.00                   0.96   \n",
       "4                      0.0       1                0.01                   0.99   \n",
       "\n",
       "   take_amount_in_later_12_month_highest  trans_amount_increase_rate_lately  \\\n",
       "0                                    0.0                               0.90   \n",
       "1                                 2000.0                               1.28   \n",
       "2                                    0.0                               1.00   \n",
       "3                                 2000.0                               0.13   \n",
       "4                                    0.0                               0.46   \n",
       "\n",
       "   trans_activity_month  ...  loans_avg_limit  consfin_credit_limit  \\\n",
       "0                  0.55  ...           1688.0                1200.0   \n",
       "1                  1.00  ...           1758.0               15100.0   \n",
       "2                  1.00  ...           1250.0                4200.0   \n",
       "3                  0.57  ...           1541.0               16300.0   \n",
       "4                  1.00  ...           1630.0                8300.0   \n",
       "\n",
       "   consfin_credibility  consfin_org_count_current  consfin_product_count  \\\n",
       "0                 75.0                        1.0                    2.0   \n",
       "1                 80.0                        5.0                    6.0   \n",
       "2                 87.0                        1.0                    1.0   \n",
       "3                 80.0                        5.0                    5.0   \n",
       "4                 79.0                        2.0                    2.0   \n",
       "\n",
       "   consfin_max_limit  consfin_avg_limit  latest_query_day  \\\n",
       "0             1200.0             1200.0              12.0   \n",
       "1            22800.0             9360.0               4.0   \n",
       "2             4200.0             4200.0               2.0   \n",
       "3            30000.0            12180.0               2.0   \n",
       "4             8400.0             8250.0              22.0   \n",
       "\n",
       "   first_transaction_day_re  active_day  \n",
       "0                    1724.0        12.0  \n",
       "1                     765.0         2.0  \n",
       "2                     324.0         2.0  \n",
       "3                    1817.0         2.0  \n",
       "4                     421.0        22.0  \n",
       "\n",
       "[5 rows x 80 columns]"
      ]
     },
     "execution_count": 4,
     "metadata": {},
     "output_type": "execute_result"
    }
   ],
   "source": [
    "df = df.iloc[:,1:]\n",
    "df.head()"
   ]
  },
  {
   "cell_type": "code",
   "execution_count": 5,
   "metadata": {},
   "outputs": [],
   "source": [
    "y = df['status']\n",
    "X = df.drop(columns = ['status'],axis = 1)"
   ]
  },
  {
   "cell_type": "markdown",
   "metadata": {},
   "source": [
    "## 计算IV值"
   ]
  },
  {
   "cell_type": "code",
   "execution_count": 6,
   "metadata": {},
   "outputs": [],
   "source": [
    "import math\n",
    "from scipy import stats\n",
    "from sklearn.utils.multiclass import type_of_target\n",
    "\n",
    "def woe(X, y, event=1):  \n",
    "    res_woe = []\n",
    "    iv_dict = {}\n",
    "    for feature in X.columns:\n",
    "        x = X[feature].values\n",
    "        # 1) 连续特征离散化\n",
    "        if type_of_target(x) == 'continuous':\n",
    "            x = discrete(x)\n",
    "        # 2) 计算该特征的woe和iv\n",
    "        # woe_dict, iv = woe_single_x(x, y, feature, event)\n",
    "        woe_dict, iv = woe_single_x(x, y, feature, event)\n",
    "        iv_dict[feature] = iv\n",
    "        res_woe.append(woe_dict) \n",
    "        \n",
    "    return iv_dict\n",
    "def discrete(x):\n",
    "    # 使用5等分离散化特征\n",
    "    res = np.zeros(x.shape)\n",
    "    for i in range(5):\n",
    "        #stats.scoreatpercentile([1,2,3,4,5],50)    # 计算输入序列中给定百分位数的分数 返回值是3\n",
    "        point1 = stats.scoreatpercentile(x, i * 20)\n",
    "        point2 = stats.scoreatpercentile(x, (i + 1) * 20)\n",
    "        x1 = x[np.where((x >= point1) & (x <= point2))]  #将x分到[0,20],[20,40],[40,60],[60,80],[80,100]5个区间进行离散化\n",
    "        mask = np.in1d(x, x1) #测试一维数组的每个元素是否也存在于第二个数组中\n",
    "        res[mask] = i + 1    # 将[i, i+1]块内的值标记成i+1\n",
    "    return res\n",
    "def woe_single_x(x, y, feature,event = 1):\n",
    "    # event代表预测正例的标签\n",
    "    event_total = (y == event).sum()  #预测为正例的数量\n",
    "    non_event_total = y.shape[-1] - event_total #预测为负例的数量\n",
    "    \n",
    "    iv = 0\n",
    "    woe_dict = {}\n",
    "    for x1 in set(x):    # 遍历各个特征标签\n",
    "        y1 = y.reindex(np.where(x == x1)[0])\n",
    "        event_count = sum(y1 == event)  \n",
    "        non_event_count = y1.shape[-1] - event_count\n",
    "        \n",
    "        rate_event = event_count / event_total  \n",
    "        rate_non_event = non_event_count / non_event_total\n",
    "        \n",
    "        if rate_event == 0:\n",
    "            rate_event = 0.0001\n",
    "            # woei = -20\n",
    "        elif rate_non_event == 0:\n",
    "            rate_non_event = 0.0001\n",
    "            # woei = 20\n",
    "        woei = math.log(rate_event / rate_non_event) #表示第i组中正例/负例比值\n",
    "        woe_dict[x1] = woei\n",
    "        iv += (rate_event - rate_non_event) * woei\n",
    "    return woe_dict, iv"
   ]
  },
  {
   "cell_type": "code",
   "execution_count": 7,
   "metadata": {
    "scrolled": true
   },
   "outputs": [
    {
     "data": {
      "text/html": [
       "<div>\n",
       "<style scoped>\n",
       "    .dataframe tbody tr th:only-of-type {\n",
       "        vertical-align: middle;\n",
       "    }\n",
       "\n",
       "    .dataframe tbody tr th {\n",
       "        vertical-align: top;\n",
       "    }\n",
       "\n",
       "    .dataframe thead th {\n",
       "        text-align: right;\n",
       "    }\n",
       "</style>\n",
       "<table border=\"1\" class=\"dataframe\">\n",
       "  <thead>\n",
       "    <tr style=\"text-align: right;\">\n",
       "      <th></th>\n",
       "      <th>Var</th>\n",
       "      <th>Iv</th>\n",
       "    </tr>\n",
       "  </thead>\n",
       "  <tbody>\n",
       "    <tr>\n",
       "      <th>0</th>\n",
       "      <td>historical_trans_amount</td>\n",
       "      <td>2.497334</td>\n",
       "    </tr>\n",
       "    <tr>\n",
       "      <th>1</th>\n",
       "      <td>trans_amount_3_month</td>\n",
       "      <td>2.324892</td>\n",
       "    </tr>\n",
       "    <tr>\n",
       "      <th>2</th>\n",
       "      <td>pawns_auctions_trusts_consume_last_6_month</td>\n",
       "      <td>1.973832</td>\n",
       "    </tr>\n",
       "    <tr>\n",
       "      <th>3</th>\n",
       "      <td>repayment_capability</td>\n",
       "      <td>1.947715</td>\n",
       "    </tr>\n",
       "    <tr>\n",
       "      <th>4</th>\n",
       "      <td>first_transaction_day_re</td>\n",
       "      <td>1.648852</td>\n",
       "    </tr>\n",
       "    <tr>\n",
       "      <th>5</th>\n",
       "      <td>abs</td>\n",
       "      <td>1.438627</td>\n",
       "    </tr>\n",
       "    <tr>\n",
       "      <th>6</th>\n",
       "      <td>consfin_avg_limit</td>\n",
       "      <td>1.384010</td>\n",
       "    </tr>\n",
       "    <tr>\n",
       "      <th>7</th>\n",
       "      <td>consume_mini_time_last_1_month</td>\n",
       "      <td>1.120906</td>\n",
       "    </tr>\n",
       "    <tr>\n",
       "      <th>8</th>\n",
       "      <td>loans_avg_limit</td>\n",
       "      <td>0.909205</td>\n",
       "    </tr>\n",
       "    <tr>\n",
       "      <th>9</th>\n",
       "      <td>max_cumulative_consume_later_1_month</td>\n",
       "      <td>0.899189</td>\n",
       "    </tr>\n",
       "    <tr>\n",
       "      <th>10</th>\n",
       "      <td>loans_score</td>\n",
       "      <td>0.868281</td>\n",
       "    </tr>\n",
       "    <tr>\n",
       "      <th>11</th>\n",
       "      <td>apply_score</td>\n",
       "      <td>0.708687</td>\n",
       "    </tr>\n",
       "    <tr>\n",
       "      <th>12</th>\n",
       "      <td>history_fail_fee</td>\n",
       "      <td>0.660170</td>\n",
       "    </tr>\n",
       "    <tr>\n",
       "      <th>13</th>\n",
       "      <td>pawns_auctions_trusts_consume_last_1_month</td>\n",
       "      <td>0.608632</td>\n",
       "    </tr>\n",
       "    <tr>\n",
       "      <th>14</th>\n",
       "      <td>trans_fail_top_count_enum_last_1_month</td>\n",
       "      <td>0.602549</td>\n",
       "    </tr>\n",
       "    <tr>\n",
       "      <th>15</th>\n",
       "      <td>historical_trans_day</td>\n",
       "      <td>0.593136</td>\n",
       "    </tr>\n",
       "    <tr>\n",
       "      <th>16</th>\n",
       "      <td>loans_overdue_count</td>\n",
       "      <td>0.393106</td>\n",
       "    </tr>\n",
       "    <tr>\n",
       "      <th>17</th>\n",
       "      <td>consfin_credit_limit</td>\n",
       "      <td>0.380068</td>\n",
       "    </tr>\n",
       "    <tr>\n",
       "      <th>18</th>\n",
       "      <td>latest_one_month_fail</td>\n",
       "      <td>0.332887</td>\n",
       "    </tr>\n",
       "    <tr>\n",
       "      <th>19</th>\n",
       "      <td>avg_price_last_12_month</td>\n",
       "      <td>0.320500</td>\n",
       "    </tr>\n",
       "    <tr>\n",
       "      <th>20</th>\n",
       "      <td>trans_fail_top_count_enum_last_6_month</td>\n",
       "      <td>0.285249</td>\n",
       "    </tr>\n",
       "    <tr>\n",
       "      <th>21</th>\n",
       "      <td>trans_fail_top_count_enum_last_12_month</td>\n",
       "      <td>0.281393</td>\n",
       "    </tr>\n",
       "    <tr>\n",
       "      <th>22</th>\n",
       "      <td>latest_query_day</td>\n",
       "      <td>0.269046</td>\n",
       "    </tr>\n",
       "    <tr>\n",
       "      <th>23</th>\n",
       "      <td>trans_day_last_12_month</td>\n",
       "      <td>0.237685</td>\n",
       "    </tr>\n",
       "    <tr>\n",
       "      <th>24</th>\n",
       "      <td>loans_long_time</td>\n",
       "      <td>0.196579</td>\n",
       "    </tr>\n",
       "    <tr>\n",
       "      <th>25</th>\n",
       "      <td>active_day</td>\n",
       "      <td>0.190621</td>\n",
       "    </tr>\n",
       "    <tr>\n",
       "      <th>26</th>\n",
       "      <td>consfin_max_limit</td>\n",
       "      <td>0.183426</td>\n",
       "    </tr>\n",
       "    <tr>\n",
       "      <th>27</th>\n",
       "      <td>take_amount_in_later_12_month_highest</td>\n",
       "      <td>0.180814</td>\n",
       "    </tr>\n",
       "    <tr>\n",
       "      <th>28</th>\n",
       "      <td>history_suc_fee</td>\n",
       "      <td>0.170292</td>\n",
       "    </tr>\n",
       "    <tr>\n",
       "      <th>29</th>\n",
       "      <td>loans_count</td>\n",
       "      <td>0.159183</td>\n",
       "    </tr>\n",
       "    <tr>\n",
       "      <th>...</th>\n",
       "      <td>...</td>\n",
       "      <td>...</td>\n",
       "    </tr>\n",
       "    <tr>\n",
       "      <th>49</th>\n",
       "      <td>transd_mcc</td>\n",
       "      <td>0.050927</td>\n",
       "    </tr>\n",
       "    <tr>\n",
       "      <th>50</th>\n",
       "      <td>apply_credibility</td>\n",
       "      <td>0.045721</td>\n",
       "    </tr>\n",
       "    <tr>\n",
       "      <th>51</th>\n",
       "      <td>loans_credibility_limit</td>\n",
       "      <td>0.039772</td>\n",
       "    </tr>\n",
       "    <tr>\n",
       "      <th>52</th>\n",
       "      <td>max_consume_count_later_6_month</td>\n",
       "      <td>0.037310</td>\n",
       "    </tr>\n",
       "    <tr>\n",
       "      <th>53</th>\n",
       "      <td>query_org_count</td>\n",
       "      <td>0.036208</td>\n",
       "    </tr>\n",
       "    <tr>\n",
       "      <th>54</th>\n",
       "      <td>loans_credibility_behavior</td>\n",
       "      <td>0.035890</td>\n",
       "    </tr>\n",
       "    <tr>\n",
       "      <th>55</th>\n",
       "      <td>loans_cash_count</td>\n",
       "      <td>0.035253</td>\n",
       "    </tr>\n",
       "    <tr>\n",
       "      <th>56</th>\n",
       "      <td>loans_org_count_current</td>\n",
       "      <td>0.035253</td>\n",
       "    </tr>\n",
       "    <tr>\n",
       "      <th>57</th>\n",
       "      <td>loans_product_count</td>\n",
       "      <td>0.032801</td>\n",
       "    </tr>\n",
       "    <tr>\n",
       "      <th>58</th>\n",
       "      <td>query_cash_count</td>\n",
       "      <td>0.032742</td>\n",
       "    </tr>\n",
       "    <tr>\n",
       "      <th>59</th>\n",
       "      <td>loans_org_count_behavior</td>\n",
       "      <td>0.032214</td>\n",
       "    </tr>\n",
       "    <tr>\n",
       "      <th>60</th>\n",
       "      <td>avg_price_top_last_12_valid_month</td>\n",
       "      <td>0.030443</td>\n",
       "    </tr>\n",
       "    <tr>\n",
       "      <th>61</th>\n",
       "      <td>consfin_credibility</td>\n",
       "      <td>0.029919</td>\n",
       "    </tr>\n",
       "    <tr>\n",
       "      <th>62</th>\n",
       "      <td>consfin_org_count_behavior</td>\n",
       "      <td>0.026807</td>\n",
       "    </tr>\n",
       "    <tr>\n",
       "      <th>63</th>\n",
       "      <td>consfin_org_count_current</td>\n",
       "      <td>0.026807</td>\n",
       "    </tr>\n",
       "    <tr>\n",
       "      <th>64</th>\n",
       "      <td>consfin_product_count</td>\n",
       "      <td>0.025678</td>\n",
       "    </tr>\n",
       "    <tr>\n",
       "      <th>65</th>\n",
       "      <td>trans_amount_increase_rate_lately</td>\n",
       "      <td>0.020747</td>\n",
       "    </tr>\n",
       "    <tr>\n",
       "      <th>66</th>\n",
       "      <td>cross_consume_count_last_1_month</td>\n",
       "      <td>0.020332</td>\n",
       "    </tr>\n",
       "    <tr>\n",
       "      <th>67</th>\n",
       "      <td>latest_one_month_loan</td>\n",
       "      <td>0.019900</td>\n",
       "    </tr>\n",
       "    <tr>\n",
       "      <th>68</th>\n",
       "      <td>query_finance_count</td>\n",
       "      <td>0.019330</td>\n",
       "    </tr>\n",
       "    <tr>\n",
       "      <th>69</th>\n",
       "      <td>low_volume_percent</td>\n",
       "      <td>0.015759</td>\n",
       "    </tr>\n",
       "    <tr>\n",
       "      <th>70</th>\n",
       "      <td>middle_volume_percent</td>\n",
       "      <td>0.015058</td>\n",
       "    </tr>\n",
       "    <tr>\n",
       "      <th>71</th>\n",
       "      <td>avg_consume_less_12_valid_month</td>\n",
       "      <td>0.013665</td>\n",
       "    </tr>\n",
       "    <tr>\n",
       "      <th>72</th>\n",
       "      <td>trans_activity_month</td>\n",
       "      <td>0.008842</td>\n",
       "    </tr>\n",
       "    <tr>\n",
       "      <th>73</th>\n",
       "      <td>regional_mobility</td>\n",
       "      <td>0.007911</td>\n",
       "    </tr>\n",
       "    <tr>\n",
       "      <th>74</th>\n",
       "      <td>railway_consume_count_last_12_month</td>\n",
       "      <td>0.007291</td>\n",
       "    </tr>\n",
       "    <tr>\n",
       "      <th>75</th>\n",
       "      <td>reg_preference_for_trad</td>\n",
       "      <td>0.006069</td>\n",
       "    </tr>\n",
       "    <tr>\n",
       "      <th>76</th>\n",
       "      <td>jewelry_consume_count_last_6_month</td>\n",
       "      <td>0.005794</td>\n",
       "    </tr>\n",
       "    <tr>\n",
       "      <th>77</th>\n",
       "      <td>is_high_user</td>\n",
       "      <td>0.005624</td>\n",
       "    </tr>\n",
       "    <tr>\n",
       "      <th>78</th>\n",
       "      <td>trans_activity_day</td>\n",
       "      <td>0.004030</td>\n",
       "    </tr>\n",
       "  </tbody>\n",
       "</table>\n",
       "<p>79 rows × 2 columns</p>\n",
       "</div>"
      ],
      "text/plain": [
       "                                           Var        Iv\n",
       "0                      historical_trans_amount  2.497334\n",
       "1                         trans_amount_3_month  2.324892\n",
       "2   pawns_auctions_trusts_consume_last_6_month  1.973832\n",
       "3                         repayment_capability  1.947715\n",
       "4                     first_transaction_day_re  1.648852\n",
       "5                                          abs  1.438627\n",
       "6                            consfin_avg_limit  1.384010\n",
       "7               consume_mini_time_last_1_month  1.120906\n",
       "8                              loans_avg_limit  0.909205\n",
       "9         max_cumulative_consume_later_1_month  0.899189\n",
       "10                                 loans_score  0.868281\n",
       "11                                 apply_score  0.708687\n",
       "12                            history_fail_fee  0.660170\n",
       "13  pawns_auctions_trusts_consume_last_1_month  0.608632\n",
       "14      trans_fail_top_count_enum_last_1_month  0.602549\n",
       "15                        historical_trans_day  0.593136\n",
       "16                         loans_overdue_count  0.393106\n",
       "17                        consfin_credit_limit  0.380068\n",
       "18                       latest_one_month_fail  0.332887\n",
       "19                     avg_price_last_12_month  0.320500\n",
       "20      trans_fail_top_count_enum_last_6_month  0.285249\n",
       "21     trans_fail_top_count_enum_last_12_month  0.281393\n",
       "22                            latest_query_day  0.269046\n",
       "23                     trans_day_last_12_month  0.237685\n",
       "24                             loans_long_time  0.196579\n",
       "25                                  active_day  0.190621\n",
       "26                           consfin_max_limit  0.183426\n",
       "27       take_amount_in_later_12_month_highest  0.180814\n",
       "28                             history_suc_fee  0.170292\n",
       "29                                 loans_count  0.159183\n",
       "..                                         ...       ...\n",
       "49                                  transd_mcc  0.050927\n",
       "50                           apply_credibility  0.045721\n",
       "51                     loans_credibility_limit  0.039772\n",
       "52             max_consume_count_later_6_month  0.037310\n",
       "53                             query_org_count  0.036208\n",
       "54                  loans_credibility_behavior  0.035890\n",
       "55                            loans_cash_count  0.035253\n",
       "56                     loans_org_count_current  0.035253\n",
       "57                         loans_product_count  0.032801\n",
       "58                            query_cash_count  0.032742\n",
       "59                    loans_org_count_behavior  0.032214\n",
       "60           avg_price_top_last_12_valid_month  0.030443\n",
       "61                         consfin_credibility  0.029919\n",
       "62                  consfin_org_count_behavior  0.026807\n",
       "63                   consfin_org_count_current  0.026807\n",
       "64                       consfin_product_count  0.025678\n",
       "65           trans_amount_increase_rate_lately  0.020747\n",
       "66            cross_consume_count_last_1_month  0.020332\n",
       "67                       latest_one_month_loan  0.019900\n",
       "68                         query_finance_count  0.019330\n",
       "69                          low_volume_percent  0.015759\n",
       "70                       middle_volume_percent  0.015058\n",
       "71             avg_consume_less_12_valid_month  0.013665\n",
       "72                        trans_activity_month  0.008842\n",
       "73                           regional_mobility  0.007911\n",
       "74         railway_consume_count_last_12_month  0.007291\n",
       "75                     reg_preference_for_trad  0.006069\n",
       "76          jewelry_consume_count_last_6_month  0.005794\n",
       "77                                is_high_user  0.005624\n",
       "78                          trans_activity_day  0.004030\n",
       "\n",
       "[79 rows x 2 columns]"
      ]
     },
     "execution_count": 7,
     "metadata": {},
     "output_type": "execute_result"
    }
   ],
   "source": [
    "iv_dict = woe(X,y)\n",
    "iv = pd.DataFrame(sorted(iv_dict.items(), key = lambda x:x[1],reverse = True),columns=['Var','Iv'])\n",
    "iv"
   ]
  },
  {
   "cell_type": "code",
   "execution_count": 8,
   "metadata": {},
   "outputs": [],
   "source": [
    "#IV值的取值范围是[0,正无穷]，<0.02,无用，0.02-0.1弱预测，0.1-0.3中等预测，0.3-0.5强预测;>0.5可疑\n",
    "threshold1 = 0.02\n",
    "#threshold2 = 0.5 #实际工作上感觉基本不对这个设限\n",
    "data_index = []\n",
    "for i in range(len(iv)):\n",
    "    #if ((iv['Iv'][i]<threshold1)|(iv['Iv'][i]>threshold2)):\n",
    "    if(iv['Iv'][i]<threshold1):\n",
    "        data_index.append(iv['Var'][i])\n",
    "X.drop(data_index,axis=1,inplace=True)"
   ]
  },
  {
   "cell_type": "code",
   "execution_count": 9,
   "metadata": {},
   "outputs": [
    {
     "data": {
      "text/plain": [
       "(4752, 67)"
      ]
     },
     "execution_count": 9,
     "metadata": {},
     "output_type": "execute_result"
    }
   ],
   "source": [
    "X.shape"
   ]
  },
  {
   "cell_type": "code",
   "execution_count": 10,
   "metadata": {
    "scrolled": true
   },
   "outputs": [
    {
     "data": {
      "text/plain": [
       "Index(['take_amount_in_later_12_month_highest',\n",
       "       'trans_amount_increase_rate_lately', 'transd_mcc',\n",
       "       'trans_days_interval_filter', 'trans_days_interval',\n",
       "       'repayment_capability', 'number_of_trans_from_2011',\n",
       "       'historical_trans_amount', 'historical_trans_day', 'rank_trad_1_month',\n",
       "       'trans_amount_3_month', 'abs', 'top_trans_count_last_1_month',\n",
       "       'avg_price_last_12_month', 'avg_price_top_last_12_valid_month',\n",
       "       'trans_top_time_last_1_month', 'trans_top_time_last_6_month',\n",
       "       'consume_top_time_last_1_month', 'consume_top_time_last_6_month',\n",
       "       'cross_consume_count_last_1_month',\n",
       "       'trans_fail_top_count_enum_last_1_month',\n",
       "       'trans_fail_top_count_enum_last_6_month',\n",
       "       'trans_fail_top_count_enum_last_12_month',\n",
       "       'consume_mini_time_last_1_month',\n",
       "       'max_cumulative_consume_later_1_month',\n",
       "       'max_consume_count_later_6_month',\n",
       "       'pawns_auctions_trusts_consume_last_1_month',\n",
       "       'pawns_auctions_trusts_consume_last_6_month', 'trans_day_last_12_month',\n",
       "       'apply_score', 'apply_credibility', 'query_org_count',\n",
       "       'query_cash_count', 'query_sum_count', 'latest_one_month_apply',\n",
       "       'latest_three_month_apply', 'latest_six_month_apply', 'loans_score',\n",
       "       'loans_credibility_behavior', 'loans_count', 'loans_settle_count',\n",
       "       'loans_overdue_count', 'loans_org_count_behavior',\n",
       "       'consfin_org_count_behavior', 'loans_cash_count',\n",
       "       'latest_three_month_loan', 'latest_six_month_loan', 'history_suc_fee',\n",
       "       'history_fail_fee', 'latest_one_month_suc', 'latest_one_month_fail',\n",
       "       'loans_long_time', 'loans_credit_limit', 'loans_credibility_limit',\n",
       "       'loans_org_count_current', 'loans_product_count', 'loans_max_limit',\n",
       "       'loans_avg_limit', 'consfin_credit_limit', 'consfin_credibility',\n",
       "       'consfin_org_count_current', 'consfin_product_count',\n",
       "       'consfin_max_limit', 'consfin_avg_limit', 'latest_query_day',\n",
       "       'first_transaction_day_re', 'active_day'],\n",
       "      dtype='object')"
      ]
     },
     "execution_count": 10,
     "metadata": {},
     "output_type": "execute_result"
    }
   ],
   "source": [
    "X.columns"
   ]
  },
  {
   "cell_type": "markdown",
   "metadata": {},
   "source": [
    "## 利用随机森林挑选特征值"
   ]
  },
  {
   "cell_type": "code",
   "execution_count": 11,
   "metadata": {
    "scrolled": true
   },
   "outputs": [
    {
     "data": {
      "text/plain": [
       "Index(['history_fail_fee', 'trans_fail_top_count_enum_last_1_month',\n",
       "       'apply_score', 'loans_score', 'latest_one_month_fail',\n",
       "       'repayment_capability', 'abs', 'first_transaction_day_re',\n",
       "       'avg_price_last_12_month', 'trans_day_last_12_month',\n",
       "       'max_cumulative_consume_later_1_month', 'query_org_count',\n",
       "       'trans_amount_3_month', 'historical_trans_amount', 'consfin_avg_limit',\n",
       "       'latest_query_day', 'active_day', 'loans_avg_limit',\n",
       "       'trans_fail_top_count_enum_last_6_month', 'trans_days_interval_filter'],\n",
       "      dtype='object')"
      ]
     },
     "execution_count": 11,
     "metadata": {},
     "output_type": "execute_result"
    }
   ],
   "source": [
    "from sklearn.ensemble import RandomForestClassifier\n",
    "rfc = RandomForestClassifier()\n",
    "rfc.fit(X, y)\n",
    "rfc_impc = pd.Series(rfc.feature_importances_, index = X.columns).sort_values(ascending=False)\n",
    "fea_gini = rfc_impc[:20].index\n",
    "fea_gini"
   ]
  },
  {
   "cell_type": "code",
   "execution_count": 12,
   "metadata": {},
   "outputs": [
    {
     "data": {
      "text/plain": [
       "(4752, 20)"
      ]
     },
     "execution_count": 12,
     "metadata": {},
     "output_type": "execute_result"
    }
   ],
   "source": [
    "finalX = X.loc[:,fea_gini]\n",
    "finalX.shape"
   ]
  },
  {
   "cell_type": "code",
   "execution_count": 13,
   "metadata": {},
   "outputs": [
    {
     "data": {
      "text/plain": [
       "0.3352065186850239"
      ]
     },
     "execution_count": 13,
     "metadata": {},
     "output_type": "execute_result"
    }
   ],
   "source": [
    "y[y==1].count()/y[y==0].count()"
   ]
  },
  {
   "cell_type": "markdown",
   "metadata": {},
   "source": [
    "## 消除量纲"
   ]
  },
  {
   "cell_type": "code",
   "execution_count": 14,
   "metadata": {},
   "outputs": [],
   "source": [
    "from sklearn.preprocessing import StandardScaler\n",
    "X = StandardScaler().fit_transform(finalX)"
   ]
  },
  {
   "cell_type": "markdown",
   "metadata": {},
   "source": [
    "## 跑下看看结果"
   ]
  },
  {
   "cell_type": "code",
   "execution_count": 15,
   "metadata": {},
   "outputs": [
    {
     "name": "stdout",
     "output_type": "stream",
     "text": [
      "准确率:0.7924,精确率:0.6603,召回率:0.2977,f1-score:0.4104,auc:0.6243\n"
     ]
    }
   ],
   "source": [
    "from sklearn.model_selection import train_test_split\n",
    "Xtrain,Xtest,Ytrain,Ytest = train_test_split(X,y,test_size=0.3,random_state=2018)\n",
    "from sklearn.linear_model import LogisticRegression as LR\n",
    "lr = LR().fit(Xtrain,Ytrain)\n",
    "#lr.score(Xtest,Ytest)\n",
    "from sklearn import metrics\n",
    "Ytest_pred = lr.predict(Xtest)\n",
    "acc = metrics.accuracy_score(Ytest,Ytest_pred)\n",
    "precision = metrics.precision_score(Ytest,Ytest_pred)\n",
    "recall = metrics.recall_score(Ytest,Ytest_pred)\n",
    "f1 = metrics.f1_score(Ytest,Ytest_pred)\n",
    "auc= metrics.roc_auc_score(Ytest,Ytest_pred)\n",
    "print('准确率:{:.4f},精确率:{:.4f},召回率:{:.4f},f1-score:{:.4f},auc:{:.4f}'.format(acc,precision,recall,f1,auc))"
   ]
  },
  {
   "cell_type": "code",
   "execution_count": 16,
   "metadata": {},
   "outputs": [
    {
     "data": {
      "text/plain": [
       "0.788218793828892"
      ]
     },
     "execution_count": 16,
     "metadata": {},
     "output_type": "execute_result"
    }
   ],
   "source": [
    "from sklearn.ensemble import RandomForestClassifier\n",
    "rfc = RandomForestClassifier(n_estimators=10)\n",
    "rfc.fit(Xtrain,Ytrain)\n",
    "rfc.score(Xtest,Ytest)"
   ]
  },
  {
   "cell_type": "code",
   "execution_count": 17,
   "metadata": {},
   "outputs": [
    {
     "name": "stdout",
     "output_type": "stream",
     "text": [
      "准确率:0.7882,精确率:0.6170,召回率:0.3353,f1-score:0.4345,auc:0.6343\n"
     ]
    }
   ],
   "source": [
    "from sklearn import metrics\n",
    "Ytest_pred = rfc.predict(Xtest)\n",
    "acc = metrics.accuracy_score(Ytest,Ytest_pred)\n",
    "precision = metrics.precision_score(Ytest,Ytest_pred)\n",
    "recall = metrics.recall_score(Ytest,Ytest_pred)\n",
    "f1 = metrics.f1_score(Ytest,Ytest_pred)\n",
    "auc= metrics.roc_auc_score(Ytest,Ytest_pred)\n",
    "print('准确率:{:.4f},精确率:{:.4f},召回率:{:.4f},f1-score:{:.4f},auc:{:.4f}'.format(acc,precision,recall,f1,auc))"
   ]
  },
  {
   "cell_type": "code",
   "execution_count": 18,
   "metadata": {},
   "outputs": [
    {
     "data": {
      "text/plain": [
       "0.800140252454418"
      ]
     },
     "execution_count": 18,
     "metadata": {},
     "output_type": "execute_result"
    }
   ],
   "source": [
    "from xgboost import XGBClassifier as XGBC\n",
    "clf = XGBC().fit(Xtrain,Ytrain)\n",
    "clf.score(Xtest,Ytest)"
   ]
  },
  {
   "cell_type": "code",
   "execution_count": 19,
   "metadata": {},
   "outputs": [
    {
     "name": "stdout",
     "output_type": "stream",
     "text": [
      "准确率:0.8001,精确率:0.6564,召回率:0.3699,f1-score:0.4732,auc:0.6540\n"
     ]
    }
   ],
   "source": [
    "from sklearn import metrics\n",
    "Ytest_pred = clf.predict(Xtest)\n",
    "acc = metrics.accuracy_score(Ytest,Ytest_pred)\n",
    "precision = metrics.precision_score(Ytest,Ytest_pred)\n",
    "recall = metrics.recall_score(Ytest,Ytest_pred)\n",
    "f1 = metrics.f1_score(Ytest,Ytest_pred)\n",
    "auc= metrics.roc_auc_score(Ytest,Ytest_pred)\n",
    "print('准确率:{:.4f},精确率:{:.4f},召回率:{:.4f},f1-score:{:.4f},auc:{:.4f}'.format(acc,precision,recall,f1,auc))"
   ]
  },
  {
   "cell_type": "markdown",
   "metadata": {},
   "source": [
    "## 处理样本不平衡"
   ]
  },
  {
   "cell_type": "code",
   "execution_count": 20,
   "metadata": {},
   "outputs": [],
   "source": [
    "import imblearn\n",
    "from imblearn.over_sampling import SMOTE\n",
    "sm = SMOTE(random_state=420)\n",
    "X,y = sm.fit_sample(finalX,y)"
   ]
  },
  {
   "cell_type": "code",
   "execution_count": 21,
   "metadata": {},
   "outputs": [],
   "source": [
    "from sklearn.preprocessing import StandardScaler\n",
    "X = StandardScaler().fit_transform(X)"
   ]
  },
  {
   "cell_type": "markdown",
   "metadata": {},
   "source": [
    "## 逻辑回归"
   ]
  },
  {
   "cell_type": "code",
   "execution_count": 22,
   "metadata": {},
   "outputs": [
    {
     "name": "stdout",
     "output_type": "stream",
     "text": [
      "准确率:0.7144,精确率:0.7266,召回率:0.6771,f1-score:0.7010,auc:0.7140\n"
     ]
    }
   ],
   "source": [
    "from sklearn.model_selection import train_test_split\n",
    "Xtrain,Xtest,Ytrain,Ytest = train_test_split(X,y,test_size=0.3,random_state=2018)\n",
    "from sklearn.linear_model import LogisticRegression as LR\n",
    "lr = LR().fit(Xtrain,Ytrain)\n",
    "#lr.score(Xtest,Ytest)\n",
    "from sklearn import metrics\n",
    "Ytest_pred = lr.predict(Xtest)\n",
    "acc = metrics.accuracy_score(Ytest,Ytest_pred)\n",
    "precision = metrics.precision_score(Ytest,Ytest_pred)\n",
    "recall = metrics.recall_score(Ytest,Ytest_pred)\n",
    "f1 = metrics.f1_score(Ytest,Ytest_pred)\n",
    "auc= metrics.roc_auc_score(Ytest,Ytest_pred)\n",
    "print('准确率:{:.4f},精确率:{:.4f},召回率:{:.4f},f1-score:{:.4f},auc:{:.4f}'.format(acc,precision,recall,f1,auc))"
   ]
  },
  {
   "cell_type": "markdown",
   "metadata": {},
   "source": [
    "## SVM"
   ]
  },
  {
   "cell_type": "code",
   "execution_count": 32,
   "metadata": {
    "scrolled": true
   },
   "outputs": [
    {
     "data": {
      "image/png": "[encoded data removed]",
      "text/plain": [
       "<Figure size 432x288 with 1 Axes>"
      ]
     },
     "metadata": {
      "needs_background": "light"
     },
     "output_type": "display_data"
    }
   ],
   "source": [
    "import matplotlib.pyplot as plt\n",
    "from sklearn.decomposition import PCA\n",
    "X_dr = PCA(2).fit_transform(X)\n",
    "plt.scatter(X_dr[:,0],X_dr[:,1],c=y)  #20个特征降维进行可视化\n",
    "plt.show()"
   ]
  },
  {
   "cell_type": "code",
   "execution_count": 25,
   "metadata": {},
   "outputs": [
    {
     "data": {
      "text/plain": [
       "0.7607677902621723"
      ]
     },
     "execution_count": 25,
     "metadata": {},
     "output_type": "execute_result"
    }
   ],
   "source": [
    "from sklearn.svm import SVC\n",
    "clf = SVC(kernel='rbf',gamma='auto',cache_size=5000).fit(Xtrain,Ytrain)\n",
    "clf.score(Xtest,Ytest)"
   ]
  },
  {
   "cell_type": "markdown",
   "metadata": {},
   "source": [
    "## 决策树"
   ]
  },
  {
   "cell_type": "code",
   "execution_count": 26,
   "metadata": {},
   "outputs": [
    {
     "data": {
      "text/plain": [
       "0.7771535580524345"
      ]
     },
     "execution_count": 26,
     "metadata": {},
     "output_type": "execute_result"
    }
   ],
   "source": [
    "from sklearn.tree import DecisionTreeClassifier\n",
    "dtc = DecisionTreeClassifier().fit(Xtrain,Ytrain)\n",
    "dtc.score(Xtest,Ytest)"
   ]
  },
  {
   "cell_type": "code",
   "execution_count": 27,
   "metadata": {},
   "outputs": [
    {
     "name": "stdout",
     "output_type": "stream",
     "text": [
      "准确率:0.7772,精确率:0.7690,召回率:0.7850,f1-score:0.7769,auc:0.7772\n"
     ]
    }
   ],
   "source": [
    "from sklearn import metrics\n",
    "Ytest_pred = dtc.predict(Xtest)\n",
    "acc = metrics.accuracy_score(Ytest,Ytest_pred)\n",
    "precision = metrics.precision_score(Ytest,Ytest_pred)\n",
    "recall = metrics.recall_score(Ytest,Ytest_pred)\n",
    "f1 = metrics.f1_score(Ytest,Ytest_pred)\n",
    "auc= metrics.roc_auc_score(Ytest,Ytest_pred)\n",
    "print('准确率:{:.4f},精确率:{:.4f},召回率:{:.4f},f1-score:{:.4f},auc:{:.4f}'.format(acc,precision,recall,f1,auc))"
   ]
  },
  {
   "cell_type": "markdown",
   "metadata": {},
   "source": [
    "## 随机森林"
   ]
  },
  {
   "cell_type": "code",
   "execution_count": 28,
   "metadata": {},
   "outputs": [
    {
     "data": {
      "text/plain": [
       "0.8249063670411985"
      ]
     },
     "execution_count": 28,
     "metadata": {},
     "output_type": "execute_result"
    }
   ],
   "source": [
    "from sklearn.ensemble import RandomForestClassifier\n",
    "rfc = RandomForestClassifier(n_estimators=10)\n",
    "rfc.fit(Xtrain,Ytrain)\n",
    "rfc.score(Xtest,Ytest)"
   ]
  },
  {
   "cell_type": "code",
   "execution_count": 29,
   "metadata": {},
   "outputs": [
    {
     "name": "stdout",
     "output_type": "stream",
     "text": [
      "准确率:0.8249,精确率:0.8545,召回率:0.7784,f1-score:0.8147,auc:0.8244\n"
     ]
    }
   ],
   "source": [
    "from sklearn import metrics\n",
    "\n",
    "Ytest_pred = rfc.predict(Xtest)\n",
    "acc = metrics.accuracy_score(Ytest,Ytest_pred)\n",
    "precision = metrics.precision_score(Ytest,Ytest_pred)\n",
    "recall = metrics.recall_score(Ytest,Ytest_pred)\n",
    "f1 = metrics.f1_score(Ytest,Ytest_pred)\n",
    "auc= metrics.roc_auc_score(Ytest,Ytest_pred)\n",
    "print('准确率:{:.4f},精确率:{:.4f},召回率:{:.4f},f1-score:{:.4f},auc:{:.4f}'.format(acc,precision,recall,f1,auc))"
   ]
  },
  {
   "cell_type": "markdown",
   "metadata": {},
   "source": [
    "## XGBoost "
   ]
  },
  {
   "cell_type": "code",
   "execution_count": 30,
   "metadata": {},
   "outputs": [
    {
     "data": {
      "text/plain": [
       "0.8352059925093633"
      ]
     },
     "execution_count": 30,
     "metadata": {},
     "output_type": "execute_result"
    }
   ],
   "source": [
    "from xgboost import XGBClassifier as XGBC\n",
    "clf = XGBC().fit(Xtrain,Ytrain)\n",
    "clf.score(Xtest,Ytest)"
   ]
  },
  {
   "cell_type": "code",
   "execution_count": 31,
   "metadata": {},
   "outputs": [
    {
     "name": "stdout",
     "output_type": "stream",
     "text": [
      "准确率:0.8352,精确率:0.8438,召回率:0.8182,f1-score:0.8308,auc:0.8350\n"
     ]
    }
   ],
   "source": [
    "from sklearn import metrics\n",
    "Ytest_pred = clf.predict(Xtest)\n",
    "acc = metrics.accuracy_score(Ytest,Ytest_pred)\n",
    "precision = metrics.precision_score(Ytest,Ytest_pred)\n",
    "recall = metrics.recall_score(Ytest,Ytest_pred)\n",
    "f1 = metrics.f1_score(Ytest,Ytest_pred)\n",
    "auc= metrics.roc_auc_score(Ytest,Ytest_pred)\n",
    "print('准确率:{:.4f},精确率:{:.4f},召回率:{:.4f},f1-score:{:.4f},auc:{:.4f}'.format(acc,precision,recall,f1,auc))"
   ]
  }
 ],
 "metadata": {
  "kernelspec": {
   "display_name": "Python 3",
   "language": "python",
   "name": "python3"
  },
  "language_info": {
   "codemirror_mode": {
    "name": "ipython",
    "version": 3
   },
   "file_extension": ".py",
   "mimetype": "text/x-python",
   "name": "python",
   "nbconvert_exporter": "python",
   "pygments_lexer": "ipython3",
   "version": "3.6.8"
  }
 },
 "nbformat": 4,
 "nbformat_minor": 2
}
