{
 "cells": [
  {
   "cell_type": "code",
   "execution_count": 36,
   "metadata": {},
   "outputs": [],
   "source": [
    "from sklearn.model_selection import train_test_split \n",
    "import pickle\n",
    "import numpy as np\n",
    "import lightgbm as lgb\n",
    "from sklearn.metrics import accuracy_score,precision_score,recall_score,f1_score,roc_auc_score,roc_curve\n",
    "from sklearn.ensemble import RandomForestClassifier, GradientBoostingClassifier\n",
    "from xgboost import XGBClassifier\n",
    "from sklearn import metrics\n",
    "from sklearn.linear_model import LogisticRegression\n",
    "from mlxtend.classifier import StackingClassifier\n",
    "import pandas as pd\n",
    "import warnings\n",
    "warnings.simplefilter('ignore')"
   ]
  },
  {
   "cell_type": "code",
   "execution_count": 18,
   "metadata": {},
   "outputs": [],
   "source": [
    "finaldata = pd.read_csv(\"finaldata.csv\")\n",
    "finalX = finaldata.iloc[:,1:21]\n",
    "y = finaldata.iloc[:,-1]\n",
    "from sklearn.preprocessing import StandardScaler\n",
    "X = StandardScaler().fit_transform(finalX)\n",
    "from sklearn.model_selection import train_test_split\n",
    "Xtrain,Xtest,Ytrain,Ytest = train_test_split(finalX,y,test_size=0.3,random_state=2018)"
   ]
  },
  {
   "cell_type": "code",
   "execution_count": 33,
   "metadata": {},
   "outputs": [],
   "source": [
    "def get_metric(clf,X, y_true):\n",
    "    y_pred = clf.predict(X)\n",
    "    y_proba = clf.predict_proba(X)\n",
    "    fpr, tpr, thresholds = metrics.roc_curve(y_true, y_proba[:, 1])\n",
    "    acc = metrics.accuracy_score(y_true, y_pred)\n",
    "    p = metrics.precision_score(y_true, y_pred)\n",
    "    r = metrics.recall_score(y_true, y_pred)\n",
    "    f1 = metrics.f1_score(y_true, y_pred)\n",
    "    auc = metrics.auc(fpr, tpr)\n",
    "    print('Accuracy : {:.4f} , Precision : {:.4f}, Recall : {:.4f}, F1 score : {:.4f}, AUC : {:.4f}'.format(acc,p,r,f1,auc))\n"
   ]
  },
  {
   "cell_type": "code",
   "execution_count": 37,
   "metadata": {},
   "outputs": [
    {
     "name": "stdout",
     "output_type": "stream",
     "text": [
      "Accuracy : 0.9039 , Precision : 0.6319, Recall : 0.6216, F1 score : 0.6267, AUC : 0.7705\n"
     ]
    }
   ],
   "source": [
    "lgb = lgb.LGBMClassifier()\n",
    "xgb = XGBClassifier()\n",
    "lr = LogisticRegression()\n",
    "sclf = StackingClassifier(classifiers=[lr, xgb],meta_classifier=lgb)\n",
    "sclf.fit(Xtrain, Ytrain)\n",
    "get_metric(sclf,Xtest, y_predict)"
   ]
  }
 ],
 "metadata": {
  "kernelspec": {
   "display_name": "Python 3",
   "language": "python",
   "name": "python3"
  },
  "language_info": {
   "codemirror_mode": {
    "name": "ipython",
    "version": 3
   },
   "file_extension": ".py",
   "mimetype": "text/x-python",
   "name": "python",
   "nbconvert_exporter": "python",
   "pygments_lexer": "ipython3",
   "version": "3.6.8"
  }
 },
 "nbformat": 4,
 "nbformat_minor": 2
}
